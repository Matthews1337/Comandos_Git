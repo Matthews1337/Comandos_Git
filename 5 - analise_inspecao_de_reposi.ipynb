{
 "cells": [
  {
   "cell_type": "markdown",
   "metadata": {},
   "source": [
    "# Exibir informações"
   ]
  },
  {
   "cell_type": "markdown",
   "metadata": {},
   "source": [
    "* Nos dá as informações do branch atual e também seus commits\n",
    "* As modificações de arquivos entre cada commit também são exibidas\n",
    "* Podemos também exibir as informações de tags com: `git show nome_tag`"
   ]
  },
  {
   "cell_type": "markdown",
   "metadata": {},
   "source": [
    "* > git show"
   ]
  },
  {
   "cell_type": "markdown",
   "metadata": {},
   "source": [
    "# Exibir as diferenças"
   ]
  },
  {
   "cell_type": "markdown",
   "metadata": {},
   "source": [
    "* > git diff"
   ]
  },
  {
   "cell_type": "markdown",
   "metadata": {},
   "source": [
    "Exibir as diferenças entre arquivos: <br>\n",
    "\n",
    "* >  git diff ``arquivo_1`` ``arquivo_2 ``"
   ]
  },
  {
   "cell_type": "markdown",
   "metadata": {},
   "source": [
    "# Log resumido"
   ]
  },
  {
   "cell_type": "markdown",
   "metadata": {},
   "source": [
    "Mostra um resumo por usuário"
   ]
  },
  {
   "cell_type": "markdown",
   "metadata": {},
   "source": [
    "* > git shortlog"
   ]
  }
 ],
 "metadata": {
  "language_info": {
   "name": "python"
  }
 },
 "nbformat": 4,
 "nbformat_minor": 2
}
